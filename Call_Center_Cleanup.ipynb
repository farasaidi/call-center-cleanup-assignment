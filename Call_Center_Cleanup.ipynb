{
 "cells": [
  {
   "cell_type": "markdown",
   "id": "331a1c4f",
   "metadata": {},
   "source": [
    "# Call Center Cleanup\n",
    "\n",
    "For this assignment, we will be working with call center data. You can start working on the assignment after the first lesson on Exploratory Data Analysis. Make sure to read the whole assignment before starting anything! As you code along in the Jupyter notebook, you are asked to make note of the results of your analysis. Do so by clicking on the results box and adding your notes beside each question.\n",
    "\n",
    "## Business Issue and Understanding\n",
    "\n",
    "You are working for a company that has two call centers: the North Call Center and the South Call Center. The company is looking to possibly hire five additional reps to enhance customer experience. Your task is to explore how efficient the current reps are in each branch to determine which branch would benefit from additional assistance.\n",
    "\n",
    "### How the Call Center Works\n",
    "\n",
    "Call center representatives are assigned queues. When calls are assigned to a queue, the call is assigned to the next person in line in the queue. After a call is assigned to a representative, the amount of time between assignment and the call starting is divided into busy minutes and not ready minutes. If the call is incoming and a customer is waiting on the phone for a rep, the time is split into three categories: busy minutes, not ready minutes, and incoming call wait time. Once the rep has the customer on the phone, there might be during call wait time, where the call is put on hold while the rep gets an answer for the customer.\n",
    "\n",
    "### Notes about the Dataset\n",
    "\n",
    "If you haven't worked in a call center before, these notes might help you throughout your analysis.\n",
    "\n",
    "* The call purpose is tagged for each call.\n",
    "* The time of the call is tagged in 1 hour blocks starting at 9:00 AM and ending at 5:00 PM.\n",
    "* Calls are tagged as incoming or outgoing.\n",
    "* Reps are assigned to queues. When the reps are working, they take calls in the order of their queue.\n",
    "* A call that is dropped due to technical error or missed by the center because they have reached maximum capacity is a lost call.\n",
    "* An abandoned call is when the customer hangs up because they have been waiting for too long.\n",
    "* Busy Minutes: the amount of time after a call comes in or needs to go out where the assigned rep is not available because they are busy with other customers.\n",
    "* Not Ready Minutes: the amount of time after a call comes in or needs to go out where the assigned rep is not available because they are not ready (for example, getting water).\n",
    "* Incoming Wait Time - amount of time after assigned rep is available to take the call customer waits for representative to pick up a call. This is tracked in seconds.\n",
    "* During Call Wait Time - amount of time during call that customer has to wait for representative\n",
    "\n",
    "## Getting Started\n",
    "\n",
    "You have two CSVs at your disposal, `NorthCallCenter.csv` and `SouthCallCenter.csv`. Import the appropriate libraries and create two dataframes, one called `north_df` and one called `south_df`."
   ]
  },
  {
   "cell_type": "code",
   "execution_count": 63,
   "id": "f362436b",
   "metadata": {},
   "outputs": [],
   "source": [
    "# Import the appropriate libraries with aliases\n",
    "import pandas as pd\n",
    "\n",
    "# Create two new dataframes\n",
    "\n",
    "north_df = pd.read_csv(\"NorthCallCenter.csv\")\n",
    "south_df = pd.read_csv(\"SouthCallCenter.csv\")"
   ]
  },
  {
   "cell_type": "markdown",
   "id": "37f77cd4",
   "metadata": {},
   "source": [
    "<span style=\"background-color:orangered; color:orangered;\">- - - - - - - - - - - - - - - - - - - - - - - - - - - - - - - - - - - - - - - - - - - - - - - - - - - - - - - - - - - - - - - - - - - - - - - - - - - - - - - - - - - - - - - - -</span>"
   ]
  },
  {
   "cell_type": "markdown",
   "id": "b4d3484b",
   "metadata": {},
   "source": [
    "## Exploratory Data Analysis\n",
    "\n",
    "Time to do some EDA! In the process of learning more about the two datasets, answer the following questions. In the code blocks below enter the code used to solve the question.  At the end of the section record your answers by double clicking where asked."
   ]
  },
  {
   "cell_type": "markdown",
   "id": "76898991",
   "metadata": {},
   "source": [
    "#### EDA Question 1A:  How many reps are in the North branch?  "
   ]
  },
  {
   "cell_type": "code",
   "execution_count": null,
   "id": "ce3eb5e4",
   "metadata": {},
   "outputs": [],
   "source": [
    "#Code Used:\n",
    "n_reps = north_df['Rep ID'].nunique()\n",
    "print(n_reps)"
   ]
  },
  {
   "cell_type": "markdown",
   "id": "2a9b34d8",
   "metadata": {},
   "source": [
    "#### EDA Question 1B:  How many reps are in the South branch?  "
   ]
  },
  {
   "cell_type": "code",
   "execution_count": null,
   "id": "3c715bbf",
   "metadata": {},
   "outputs": [],
   "source": [
    "#Code Used:\n",
    "s_reps = south_df['Rep ID'].nunique()\n",
    "print(s_reps)"
   ]
  },
  {
   "cell_type": "markdown",
   "id": "a872f045",
   "metadata": {},
   "source": [
    "#### EDA Question 2A:  What is the average busy minutes, not ready minutes, incoming wait time, and during call wait time for the North branch? "
   ]
  },
  {
   "cell_type": "code",
   "execution_count": null,
   "id": "3759305f",
   "metadata": {},
   "outputs": [],
   "source": [
    "#Code Used:\n",
    "north_busym = north_df[['Busy Minutes' ,'Not Ready Minutes', 'Incoming Wait Time', 'During Call Wait Time']].mean()\n",
    "print(north_busym)"
   ]
  },
  {
   "cell_type": "markdown",
   "id": "3851cf3e",
   "metadata": {},
   "source": [
    "#### EDA Question 2B:  What is the average busy minutes, not ready minutes, incoming wait time, and during call wait time for the South branch? "
   ]
  },
  {
   "cell_type": "code",
   "execution_count": null,
   "id": "a77ec152",
   "metadata": {},
   "outputs": [],
   "source": [
    "#Code Used:\n",
    "south_busym = south_df[['Busy Minutes' , 'Not Ready Minutes','Incoming Wait Time', 'During Call Wait Time']].mean()\n",
    "print(south_busym)"
   ]
  },
  {
   "cell_type": "markdown",
   "id": "75915553",
   "metadata": {},
   "source": [
    "#### EDA Question 3:  What is the number of calls taken for each time block(Both North and South combined)?"
   ]
  },
  {
   "cell_type": "code",
   "execution_count": null,
   "id": "49566936",
   "metadata": {},
   "outputs": [],
   "source": [
    "# Code Used:\n",
    "all_df = pd.concat([north_df, south_df])\n",
    "block_time = all_df['Time Block'].value_counts()\n",
    "print(block_time)\n"
   ]
  },
  {
   "cell_type": "markdown",
   "id": "40b1fd3f",
   "metadata": {},
   "source": [
    "##### Record your answers for the EDA section by double clicking here:\n",
    "- 1a) Reps in the North Branch = 9 \n",
    "- 1b) Reps in the South Branch = 11\n",
    "\n",
    "\n",
    "- 2a) North Branch, (round to the nearest hundredth):\n",
    "> - Busy Minutes = 9.987755\n",
    "> - Not Ready Minutes = 1.914286\n",
    "> - Incoming Wait Time = 3.048780\n",
    "> - During Call Wait Time = 2.967347\n",
    "- 2b) South Branch, (round to the nearest hundredth):\n",
    "> - Busy Minutes = 10.054140\n",
    "> - Not Ready Minutes = 1.910828\n",
    "> - Incoming Wait Time = 3.000000\n",
    "> - During Call Wait Time = 3.076433\n",
    "- 3) Total Calls taken for all branches per time block:\n",
    "> - 9:00AM   = 10\n",
    "> - 10:00AM  = 99\n",
    "> - 11:00AM  = 56\n",
    "> - 12:00PM  = 120\n",
    "> - 1:00PM   = 40\n",
    "> - 2:00PM   = 65\n",
    "> - 3:00PM   = 73\n",
    "> - 4:00PM   = 53\n",
    "> - 5:00PM   = 43\n",
    "\n"
   ]
  },
  {
   "cell_type": "markdown",
   "id": "446048d3",
   "metadata": {},
   "source": [
    "<span style=\"background-color:orangered; color:orangered;\">- - - - - - - - - - - - - - - - - - - - - - - - - - - - - - - - - - - - - - - - - - - - - - - - - - - - - - - - - - - - - - - - - - - - - - - - - - - - - - - - - - - - - - - - -</span>"
   ]
  },
  {
   "cell_type": "markdown",
   "id": "366bfb19",
   "metadata": {},
   "source": [
    "## Cleaning Your Data \n",
    "Now you need to clean up the datasets. When cleaning the datasets, you may find that there isn't dirty data to clean. That is okay! Some questions you need to answer about the data sets.\n",
    "* Add additional code blocks as needed to show how you came to your conclusions. Add comments in your code blocks to help others understand your thinking. "
   ]
  },
  {
   "cell_type": "markdown",
   "id": "c3564d69",
   "metadata": {},
   "source": [
    "#### Cleaning Question 1:  Is there any missing data and if yes explain what you would do with the missing data and why?\n",
    "##### Record your answer by double clicking here:\n",
    "> Your Answer: as I see in 'incoming call wait' for both data is missing I am giving 0 value to it.\n"
   ]
  },
  {
   "cell_type": "code",
   "execution_count": null,
   "id": "b77fb574",
   "metadata": {},
   "outputs": [],
   "source": [
    "# checking for missing value in north data set\n",
    "north_df.fillna(value=0, inplace=True)\n",
    "north_df.isnull().sum()"
   ]
  },
  {
   "cell_type": "code",
   "execution_count": null,
   "id": "e6b583e8",
   "metadata": {},
   "outputs": [],
   "source": [
    "# checking for missing value in south data set\n",
    "south_df.fillna(value=0, inplace=True)\n",
    "south_df.isnull().sum()"
   ]
  },
  {
   "cell_type": "markdown",
   "id": "dc47f020",
   "metadata": {},
   "source": [
    "#### Cleaning Question 2:  In the North data set, there are two separate \"YES\" values for a sale. Why and how did you rectify the issue?\n",
    "##### Record your answer by double clicking here:\n",
    "> Your Answer: By analizing data in spreadsheet I found that one yes has space after it, by removing that space I fixed it."
   ]
  },
  {
   "cell_type": "code",
   "execution_count": 64,
   "id": "4e0fbad6",
   "metadata": {},
   "outputs": [],
   "source": [
    "#changing the value to a normal format:\n",
    "north_df.Sale.replace('Yes ', 'Yes', inplace=True)"
   ]
  },
  {
   "cell_type": "markdown",
   "id": "715f375a",
   "metadata": {},
   "source": [
    "#### Cleaning Question 3:  Are there duplicates in the two data sets? If there are, how did you handle them?\n",
    "##### Record your answer by double clicking here:\n",
    "> Your Answer: there is no duplicate in this 2 data set."
   ]
  },
  {
   "cell_type": "code",
   "execution_count": null,
   "id": "2323673a",
   "metadata": {},
   "outputs": [],
   "source": [
    "#checking for duplicates\n",
    "south_df.duplicated().sum()"
   ]
  },
  {
   "cell_type": "code",
   "execution_count": null,
   "id": "d991de59",
   "metadata": {},
   "outputs": [],
   "source": [
    "#checking for duplicates\n",
    "north_df.duplicated().sum()"
   ]
  },
  {
   "cell_type": "markdown",
   "id": "8ffaa865",
   "metadata": {},
   "source": [
    "#### Cleaning Question 4:  Is any of the data in the two data sets unnecessary? If yes, how did you handle it?\n",
    "##### Record your answer by double clicking here:\n",
    "> Your Answer: No there is no any unnecessary data. If there was any any unnecessary data i would use 'drop()' method to use 'drop()' method to handle it."
   ]
  },
  {
   "cell_type": "code",
   "execution_count": null,
   "id": "78b45e70",
   "metadata": {},
   "outputs": [],
   "source": [
    "#Code Used\n",
    "# Add Additional Cells as needed."
   ]
  },
  {
   "cell_type": "markdown",
   "id": "f67d89ab",
   "metadata": {},
   "source": [
    "<span style=\"background-color:orangered; color:orangered;\">- - - - - - - - - - - - - - - - - - - - - - - - - - - - - - - - - - - - - - - - - - - - - - - - - - - - - - - - - - - - - - - - - - - - - - - - - - - - - - - - - - - - - - - - -</span>"
   ]
  },
  {
   "cell_type": "markdown",
   "id": "73342a9a",
   "metadata": {},
   "source": [
    "## Data Manipulation\n",
    "Before you begin answering any questions, combine the two datasets together to create a third dataframe called df. You can use this third dataframe to compare the two call centers to company-wide trends.\n",
    "* Add additional code blocks as needed to show how you came to your conclusions. Add comments in your code blocks to help others understand your thinking. Record your answer by double clicking the below cell."
   ]
  },
  {
   "cell_type": "code",
   "execution_count": 65,
   "id": "e9705c34",
   "metadata": {},
   "outputs": [
    {
     "data": {
      "text/html": [
       "<div>\n",
       "<style scoped>\n",
       "    .dataframe tbody tr th:only-of-type {\n",
       "        vertical-align: middle;\n",
       "    }\n",
       "\n",
       "    .dataframe tbody tr th {\n",
       "        vertical-align: top;\n",
       "    }\n",
       "\n",
       "    .dataframe thead th {\n",
       "        text-align: right;\n",
       "    }\n",
       "</style>\n",
       "<table border=\"1\" class=\"dataframe\">\n",
       "  <thead>\n",
       "    <tr style=\"text-align: right;\">\n",
       "      <th></th>\n",
       "      <th>Unnamed: 0</th>\n",
       "      <th>Branch</th>\n",
       "      <th>Call Purpose</th>\n",
       "      <th>Time Block</th>\n",
       "      <th>Incoming or Outgoing</th>\n",
       "      <th>Queue</th>\n",
       "      <th>Rep ID</th>\n",
       "      <th>Sale</th>\n",
       "      <th>Lost Call</th>\n",
       "      <th>Abandoned</th>\n",
       "      <th>Busy Minutes</th>\n",
       "      <th>Not Ready Minutes</th>\n",
       "      <th>Incoming Wait Time</th>\n",
       "      <th>During Call Wait Time</th>\n",
       "      <th>Calls</th>\n",
       "    </tr>\n",
       "  </thead>\n",
       "  <tbody>\n",
       "    <tr>\n",
       "      <th>0</th>\n",
       "      <td>0</td>\n",
       "      <td>South</td>\n",
       "      <td>Sales Support</td>\n",
       "      <td>10:00 AM</td>\n",
       "      <td>Incoming</td>\n",
       "      <td>D</td>\n",
       "      <td>Kate</td>\n",
       "      <td>NO</td>\n",
       "      <td>0</td>\n",
       "      <td>0</td>\n",
       "      <td>9</td>\n",
       "      <td>1</td>\n",
       "      <td>1.0</td>\n",
       "      <td>2</td>\n",
       "      <td>1</td>\n",
       "    </tr>\n",
       "    <tr>\n",
       "      <th>1</th>\n",
       "      <td>1</td>\n",
       "      <td>South</td>\n",
       "      <td>Sales Support</td>\n",
       "      <td>10:00 AM</td>\n",
       "      <td>Incoming</td>\n",
       "      <td>C</td>\n",
       "      <td>Eric</td>\n",
       "      <td>NO</td>\n",
       "      <td>0</td>\n",
       "      <td>0</td>\n",
       "      <td>8</td>\n",
       "      <td>2</td>\n",
       "      <td>1.0</td>\n",
       "      <td>4</td>\n",
       "      <td>1</td>\n",
       "    </tr>\n",
       "    <tr>\n",
       "      <th>2</th>\n",
       "      <td>2</td>\n",
       "      <td>South</td>\n",
       "      <td>Sales Support</td>\n",
       "      <td>10:00 AM</td>\n",
       "      <td>Incoming</td>\n",
       "      <td>C</td>\n",
       "      <td>Susan</td>\n",
       "      <td>NO</td>\n",
       "      <td>0</td>\n",
       "      <td>0</td>\n",
       "      <td>10</td>\n",
       "      <td>2</td>\n",
       "      <td>1.0</td>\n",
       "      <td>4</td>\n",
       "      <td>1</td>\n",
       "    </tr>\n",
       "    <tr>\n",
       "      <th>3</th>\n",
       "      <td>3</td>\n",
       "      <td>South</td>\n",
       "      <td>Sales Support</td>\n",
       "      <td>10:00 AM</td>\n",
       "      <td>Incoming</td>\n",
       "      <td>C</td>\n",
       "      <td>Alice</td>\n",
       "      <td>NO</td>\n",
       "      <td>0</td>\n",
       "      <td>0</td>\n",
       "      <td>12</td>\n",
       "      <td>1</td>\n",
       "      <td>1.0</td>\n",
       "      <td>3</td>\n",
       "      <td>1</td>\n",
       "    </tr>\n",
       "    <tr>\n",
       "      <th>4</th>\n",
       "      <td>4</td>\n",
       "      <td>South</td>\n",
       "      <td>Sales Support</td>\n",
       "      <td>12:00 PM</td>\n",
       "      <td>Incoming</td>\n",
       "      <td>C</td>\n",
       "      <td>Sandy</td>\n",
       "      <td>NO</td>\n",
       "      <td>0</td>\n",
       "      <td>0</td>\n",
       "      <td>8</td>\n",
       "      <td>3</td>\n",
       "      <td>1.0</td>\n",
       "      <td>3</td>\n",
       "      <td>1</td>\n",
       "    </tr>\n",
       "    <tr>\n",
       "      <th>...</th>\n",
       "      <td>...</td>\n",
       "      <td>...</td>\n",
       "      <td>...</td>\n",
       "      <td>...</td>\n",
       "      <td>...</td>\n",
       "      <td>...</td>\n",
       "      <td>...</td>\n",
       "      <td>...</td>\n",
       "      <td>...</td>\n",
       "      <td>...</td>\n",
       "      <td>...</td>\n",
       "      <td>...</td>\n",
       "      <td>...</td>\n",
       "      <td>...</td>\n",
       "      <td>...</td>\n",
       "    </tr>\n",
       "    <tr>\n",
       "      <th>240</th>\n",
       "      <td>240</td>\n",
       "      <td>North</td>\n",
       "      <td>Product Support</td>\n",
       "      <td>5:00 PM</td>\n",
       "      <td>Outgoing</td>\n",
       "      <td>B</td>\n",
       "      <td>Brent</td>\n",
       "      <td>NO</td>\n",
       "      <td>0</td>\n",
       "      <td>0</td>\n",
       "      <td>10</td>\n",
       "      <td>2</td>\n",
       "      <td>NaN</td>\n",
       "      <td>3</td>\n",
       "      <td>1</td>\n",
       "    </tr>\n",
       "    <tr>\n",
       "      <th>241</th>\n",
       "      <td>241</td>\n",
       "      <td>North</td>\n",
       "      <td>Product Support</td>\n",
       "      <td>5:00 PM</td>\n",
       "      <td>Outgoing</td>\n",
       "      <td>A</td>\n",
       "      <td>Joe</td>\n",
       "      <td>NO</td>\n",
       "      <td>0</td>\n",
       "      <td>0</td>\n",
       "      <td>8</td>\n",
       "      <td>3</td>\n",
       "      <td>NaN</td>\n",
       "      <td>2</td>\n",
       "      <td>1</td>\n",
       "    </tr>\n",
       "    <tr>\n",
       "      <th>242</th>\n",
       "      <td>242</td>\n",
       "      <td>North</td>\n",
       "      <td>Product Support</td>\n",
       "      <td>5:00 PM</td>\n",
       "      <td>Outgoing</td>\n",
       "      <td>A</td>\n",
       "      <td>Amanda</td>\n",
       "      <td>NO</td>\n",
       "      <td>0</td>\n",
       "      <td>0</td>\n",
       "      <td>12</td>\n",
       "      <td>1</td>\n",
       "      <td>NaN</td>\n",
       "      <td>2</td>\n",
       "      <td>1</td>\n",
       "    </tr>\n",
       "    <tr>\n",
       "      <th>243</th>\n",
       "      <td>243</td>\n",
       "      <td>North</td>\n",
       "      <td>Product Support</td>\n",
       "      <td>5:00 PM</td>\n",
       "      <td>Outgoing</td>\n",
       "      <td>A</td>\n",
       "      <td>Cam</td>\n",
       "      <td>NO</td>\n",
       "      <td>0</td>\n",
       "      <td>0</td>\n",
       "      <td>11</td>\n",
       "      <td>2</td>\n",
       "      <td>NaN</td>\n",
       "      <td>2</td>\n",
       "      <td>1</td>\n",
       "    </tr>\n",
       "    <tr>\n",
       "      <th>244</th>\n",
       "      <td>244</td>\n",
       "      <td>North</td>\n",
       "      <td>Product Support</td>\n",
       "      <td>5:00 PM</td>\n",
       "      <td>Outgoing</td>\n",
       "      <td>B</td>\n",
       "      <td>Xander</td>\n",
       "      <td>NO</td>\n",
       "      <td>0</td>\n",
       "      <td>0</td>\n",
       "      <td>8</td>\n",
       "      <td>1</td>\n",
       "      <td>NaN</td>\n",
       "      <td>4</td>\n",
       "      <td>1</td>\n",
       "    </tr>\n",
       "  </tbody>\n",
       "</table>\n",
       "<p>559 rows × 15 columns</p>\n",
       "</div>"
      ],
      "text/plain": [
       "     Unnamed: 0 Branch     Call Purpose Time Block Incoming or Outgoing Queue  \\\n",
       "0             0  South    Sales Support   10:00 AM             Incoming     D   \n",
       "1             1  South    Sales Support   10:00 AM             Incoming     C   \n",
       "2             2  South    Sales Support   10:00 AM             Incoming     C   \n",
       "3             3  South    Sales Support   10:00 AM             Incoming     C   \n",
       "4             4  South    Sales Support   12:00 PM             Incoming     C   \n",
       "..          ...    ...              ...        ...                  ...   ...   \n",
       "240         240  North  Product Support    5:00 PM             Outgoing     B   \n",
       "241         241  North  Product Support    5:00 PM             Outgoing     A   \n",
       "242         242  North  Product Support    5:00 PM             Outgoing     A   \n",
       "243         243  North  Product Support    5:00 PM             Outgoing     A   \n",
       "244         244  North  Product Support    5:00 PM             Outgoing     B   \n",
       "\n",
       "     Rep ID Sale  Lost Call  Abandoned  Busy Minutes  Not Ready Minutes  \\\n",
       "0      Kate   NO          0          0             9                  1   \n",
       "1      Eric   NO          0          0             8                  2   \n",
       "2     Susan   NO          0          0            10                  2   \n",
       "3     Alice   NO          0          0            12                  1   \n",
       "4     Sandy   NO          0          0             8                  3   \n",
       "..      ...  ...        ...        ...           ...                ...   \n",
       "240   Brent   NO          0          0            10                  2   \n",
       "241     Joe   NO          0          0             8                  3   \n",
       "242  Amanda   NO          0          0            12                  1   \n",
       "243     Cam   NO          0          0            11                  2   \n",
       "244  Xander   NO          0          0             8                  1   \n",
       "\n",
       "     Incoming Wait Time  During Call Wait Time  Calls  \n",
       "0                   1.0                      2      1  \n",
       "1                   1.0                      4      1  \n",
       "2                   1.0                      4      1  \n",
       "3                   1.0                      3      1  \n",
       "4                   1.0                      3      1  \n",
       "..                  ...                    ...    ...  \n",
       "240                 NaN                      3      1  \n",
       "241                 NaN                      2      1  \n",
       "242                 NaN                      2      1  \n",
       "243                 NaN                      2      1  \n",
       "244                 NaN                      4      1  \n",
       "\n",
       "[559 rows x 15 columns]"
      ]
     },
     "execution_count": 65,
     "metadata": {},
     "output_type": "execute_result"
    }
   ],
   "source": [
    "# Create dataframe for the entire company named df\n",
    "df = pd.concat([south_df, north_df])\n",
    "df"
   ]
  },
  {
   "cell_type": "code",
   "execution_count": null,
   "id": "eadcd051",
   "metadata": {},
   "outputs": [],
   "source": [
    "df.head()"
   ]
  },
  {
   "cell_type": "markdown",
   "id": "7e87dfd1",
   "metadata": {},
   "source": [
    "#### Manipulation Question 1:  Group by Rep ID and sum the resulting structure. Sort by calls to determine which rep in each branch has the highest number of calls.\n",
    "\n",
    "##### Record your answer by double clicking here:\n",
    "Rep with the hightest number of calls and their total calls:\n",
    "- Brent North Branch = 37 \n",
    "- Eric South Branch = 35\n"
   ]
  },
  {
   "cell_type": "code",
   "execution_count": null,
   "id": "3953f09a",
   "metadata": {},
   "outputs": [],
   "source": [
    "#Group by Rep ID and sum the resulting structure\n",
    "grouped = df.groupby(['Rep ID', 'Branch']).sum()\n",
    "# Sort by calls to determine which rep in each branch has the highest number of calls.\n",
    "sorted_grouped = grouped.sort_values('Calls', ascending=False)\n",
    "sorted_grouped"
   ]
  },
  {
   "cell_type": "markdown",
   "id": "809293b9",
   "metadata": {},
   "source": [
    "#### Manipulation Question 2:  The average call abandonment rate is a KPI when it comes to determining call center efficiency. As you may recall, abandoned calls are calls where the customer hangs up due to long call times. What is the average call abandonment rate for each branch and the whole company? Do any of these fall out of the optimal range of 2-5%?\n",
    "##### Record your answer by double clicking here:\n",
    "Average Call Abandonment Rates (round to the nearest hundredth):\n",
    "- North Branch = 2.85%\n",
    "- South Branch = 1.27%\n",
    "- Company Wide = 1.98%\n",
    "- Do any of these fall out of the optimal range of 2-5%? Yes South and company wide fall out of the optimal range of 2-5% but not North"
   ]
  },
  {
   "cell_type": "code",
   "execution_count": null,
   "id": "3dff7534",
   "metadata": {},
   "outputs": [],
   "source": [
    "# calculate call abandonment rate for each branch\n",
    "branch_abandonment_rates = df.groupby(\"Branch\")[\"Abandoned\"].sum() / df.groupby(\"Branch\")[\"Calls\"].sum() * 100\n",
    "\n",
    "# calculate call abandonment rate for the whole company\n",
    "company_abandonment_rate = df[\"Abandoned\"].sum() / df[\"Calls\"].sum() * 100\n",
    "\n",
    "# print results\n",
    "print( branch_abandonment_rates)\n",
    "print( company_abandonment_rate)"
   ]
  },
  {
   "cell_type": "markdown",
   "id": "598bb1bf",
   "metadata": {},
   "source": [
    "#### Manipulation Question 3:  Service level is another KPI when it comes to measuring call center efficiency. Service level is the percentage of calls answered within a specific number of seconds. In the case of your employer, their ideal time frame is 2 seconds. What is the percentage of calls answered within 2 seconds for each branch and the entire company?\n",
    "##### Record your answer by double clicking here:\n",
    "Percentage of calls answered within 2 seconds, include # of calls:\n",
    "- North Branch = 40.24/ 29 calls\n",
    "- South Branch = 38.09/ 32 calls \n",
    "- Company Wide = 38.94 \n"
   ]
  },
  {
   "cell_type": "code",
   "execution_count": 67,
   "id": "1617ee84",
   "metadata": {},
   "outputs": [
    {
     "name": "stdout",
     "output_type": "stream",
     "text": [
      "Number of calls answered within 2 seconds by branch:\n",
      "Branch\n",
      "North    33\n",
      "South    48\n",
      "Name: Calls, dtype: int64\n",
      "Total number of calls by branch:\n",
      "Branch\n",
      "North     82\n",
      "South    126\n",
      "Name: Calls, dtype: int64\n",
      "Service level percentage by branch:\n",
      "Branch\n",
      "North    40.243902\n",
      "South    38.095238\n",
      "Name: Calls, dtype: float64\n",
      "Number of calls answered within 2 seconds for the entire company:\n",
      "81\n",
      "Total number of calls for the entire company:\n",
      "208\n",
      "Service level percentage for the entire company:\n",
      "38.94230769230769\n"
     ]
    }
   ],
   "source": [
    "# Calculate service level percentage by branch\n",
    "incoming_calls = df[df['Incoming or Outgoing'] == 'Incoming']\n",
    "branch_calls_within_timeframe = incoming_calls[incoming_calls['Incoming Wait Time'] <= 2].groupby('Branch')['Calls'].sum()\n",
    "branch_total_calls = incoming_calls.groupby('Branch')['Calls'].sum()\n",
    "branch_service_level = (branch_calls_within_timeframe / branch_total_calls) * 100\n",
    "\n",
    "print('Number of calls answered within 2 seconds by branch:')\n",
    "print(branch_calls_within_timeframe)\n",
    "\n",
    "print('Total number of calls by branch:')\n",
    "print(branch_total_calls)\n",
    "\n",
    "print('Service level percentage by branch:')\n",
    "print(branch_service_level)\n",
    "\n",
    "# Calculate service level percentage for the entire company\n",
    "company_calls_within_timeframe = incoming_calls[incoming_calls['Incoming Wait Time'] <= 2]['Calls'].sum()\n",
    "company_total_calls = incoming_calls['Calls'].sum()\n",
    "company_service_level = (company_calls_within_timeframe / company_total_calls) * 100\n",
    "\n",
    "print('Number of calls answered within 2 seconds for the entire company:')\n",
    "print(company_calls_within_timeframe)\n",
    "\n",
    "print('Total number of calls for the entire company:')\n",
    "print(company_total_calls)\n",
    "\n",
    "print('Service level percentage for the entire company:')\n",
    "print(company_service_level)"
   ]
  },
  {
   "cell_type": "code",
   "execution_count": null,
   "id": "3fefba06",
   "metadata": {},
   "outputs": [],
   "source": [
    "# Manipulation Question 4: For each branch and the entire company, what is the average speed of answer?\n",
    "\n",
    "# Record your answer by double clicking here:\n",
    "\n",
    "# Average speed of answer (rounded to nearest hundredth):\n",
    "\n",
    "# North Branch in seconds = 3.05\n",
    "# South Branch in seconds = 3.0\n",
    "# Company Wide in seconds = 3.02\n",
    "\n"
   ]
  },
  {
   "cell_type": "code",
   "execution_count": 66,
   "id": "d4b94f20",
   "metadata": {},
   "outputs": [
    {
     "name": "stdout",
     "output_type": "stream",
     "text": [
      "North Branch in seconds = 3.05\n",
      "South Branch in seconds = 3.0\n",
      "Company Wide in seconds = 3.02\n"
     ]
    }
   ],
   "source": [
    "# Code Used \n",
    "# Average speed of answer for North branch\n",
    "north_incoming_wait_time = north_df[north_df['Incoming or Outgoing'] == 'Incoming']['Incoming Wait Time'].sum()\n",
    "north_incoming_calls = north_df[north_df['Incoming or Outgoing'] == 'Incoming']['Calls'].sum()\n",
    "north_avg_speed_of_answer = round(north_incoming_wait_time / north_incoming_calls, 2)\n",
    "\n",
    "# Average speed of answer for South branch\n",
    "south_incoming_wait_time = south_df[south_df['Incoming or Outgoing'] == 'Incoming']['Incoming Wait Time'].sum()\n",
    "south_incoming_calls = south_df[south_df['Incoming or Outgoing'] == 'Incoming']['Calls'].sum()\n",
    "south_avg_speed_of_answer = round(south_incoming_wait_time / south_incoming_calls, 2)\n",
    "\n",
    "# Average speed of answer for the entire company\n",
    "combined_incoming_wait_time = df[df['Incoming or Outgoing'] == 'Incoming']['Incoming Wait Time'].sum()\n",
    "combined_incoming_calls = df[df['Incoming or Outgoing'] == 'Incoming']['Calls'].sum()\n",
    "company_avg_speed_of_answer = round(combined_incoming_wait_time / combined_incoming_calls, 2)\n",
    "\n",
    "print(f\"North Branch in seconds = {north_avg_speed_of_answer}\")\n",
    "print(f\"South Branch in seconds = {south_avg_speed_of_answer}\")\n",
    "print(f\"Company Wide in seconds = {company_avg_speed_of_answer}\")\n",
    "\n",
    "\n"
   ]
  },
  {
   "cell_type": "markdown",
   "id": "9f22f875",
   "metadata": {},
   "source": [
    "# Visualization\n",
    "\n",
    "Create a visualization for each of the following questions. Some of the code to handle aggregating and storing data may be written for you. For each visualization, you choose the chart style that you feel suits the situation best. Make note of the chart style you chose and why.\n",
    "\n",
    "*NOTE Some questions you may decide to use more than one chart and or chart style.\n",
    "\n",
    "Visualization 1: What is the average abandonment rate per queue?\n",
    "\n",
    "Record your answer by double clicking here:\n",
    "\n",
    "Chart style you chose and why: I chose a horizontal bar chart because it is a clear and effective way to show comparisons between different categories.\n"
   ]
  },
  {
   "cell_type": "code",
   "execution_count": 68,
   "id": "4bf2a5ee",
   "metadata": {},
   "outputs": [
    {
     "data": {
      "image/png": "[encoded data removed]",
      "text/plain": [
       "<Figure size 640x480 with 1 Axes>"
      ]
     },
     "metadata": {},
     "output_type": "display_data"
    }
   ],
   "source": [
    "# Create visualization 1 here\n",
    "# Import any additional libraries needed with alias\n",
    "import seaborn as sns\n",
    "import matplotlib.pyplot as plt\n",
    "import numpy as np\n",
    "\n",
    "# The dictionary abandonment_rates has the data you need.\n",
    "abandonment_rates = {}\n",
    "queues = [\"A\", \"B\", \"C\", \"D\"]\n",
    "queue_dict = df.groupby(\"Queue\").agg(\"sum\")\n",
    "for i in range(4):\n",
    "    abandonment_rates[queues[i]] = queue_dict[\"Abandoned\"][i] / queue_dict[\"Calls\"][i] \n",
    "\n",
    "#Your Code Here:\n",
    "abandonment_queue = df.groupby(\"Queue\")[\"Abandoned\"].mean().sort_values(ascending=False)\n",
    "# print(abandonment_queue)\n",
    "\n",
    "# set style\n",
    "sns.set(style=\"darkgrid\")\n",
    "\n",
    "# create bar chart\n",
    "ax = sns.barplot(x=abandonment_queue.index, y=abandonment_queue.values, color=\"royalblue\")\n",
    "\n",
    "# set title\n",
    "ax.set_title(\"Average Abandonment Rate per Queue\")\n",
    "\n",
    "# set x-axis label\n",
    "ax.set_xlabel(\"Queue\")\n",
    "\n",
    "# set y-axis label\n",
    "ax.set_ylabel(\"Average Abandonment Rate (%)\")\n",
    "\n",
    "# display chart\n",
    "plt.show()"
   ]
  },
  {
   "cell_type": "markdown",
   "id": "e4e8c2df",
   "metadata": {},
   "source": [
    "Visualization 2: What is the service level percentage and average speed of answer for each rep in the North Branch?\n",
    "Record your answer by double clicking here: \n",
    "Service Level %  Avg Speed of Answer (sec)\n",
    "Rep ID                                            \n",
    "Amanda        60.000000                   2.400000\n",
    "Andy          30.000000                   3.600000\n",
    "Brent         75.000000                   2.125000\n",
    "Cam           45.454545                   2.909091\n",
    "Duke          42.857143                   2.785714\n",
    "Joe           20.000000                   3.600000\n",
    "Lilly         33.333333                   3.083333\n",
    "Todd          33.333333                   3.500000\n",
    "Xander        33.333333                   3.333333"
   ]
  },
  {
   "cell_type": "code",
   "execution_count": 69,
   "id": "15024386",
   "metadata": {},
   "outputs": [
    {
     "data": {
      "image/png": "[encoded data removed]",
      "text/plain": [
       "<Figure size 1200x800 with 2 Axes>"
      ]
     },
     "metadata": {},
     "output_type": "display_data"
    }
   ],
   "source": [
    "# Create visualization 2 here\n",
    "# north_plt contains the data you need for the average speed of answer of each rep\n",
    "\n",
    "north_plt = north_df.groupby(\"Rep ID\")[\"Incoming Wait Time\"].mean().to_frame().reset_index()\n",
    "\n",
    "# Finding each Rep's Personal Service Level Percentage.  Basically, Calls within 2 secs / total calls\n",
    "\n",
    "# Table 1: Total Incoming calls less than 2 seconds grouped by Rep\n",
    "quick_calls = north_df[north_df[\"Incoming Wait Time\"] <= 2.0]\n",
    "quick_reps = quick_calls[[\"Rep ID\", \"Calls\"]]\n",
    "quick_stats = quick_reps.groupby([\"Rep ID\"]).sum()  # Final Table\n",
    "\n",
    "\n",
    "# Table 2: Total Incoming Calls Only grouped by Rep\n",
    "total_calls_in = north_df[north_df[\"Incoming or Outgoing\"] == \"Incoming\"]\n",
    "rep_calls = total_calls_in[[\"Rep ID\", \"Calls\"]]     \n",
    "total_stats = rep_calls.groupby([\"Rep ID\"]).sum() # Final Table  \n",
    "\n",
    "#  Table 3: Service Level Percentage created via merge\n",
    "service_level = pd.merge(quick_stats, total_stats, on=\"Rep ID\")\n",
    "\n",
    "# Create Percentage Column in Table 3\n",
    "service_level[\"Service Level %\"] = service_level[\"Calls_x\"]/service_level[\"Calls_y\"] * 100\n",
    "\n",
    "#Your Code Here:\n",
    "# Merge the north_plt and service_level dataframes\n",
    "import matplotlib.pyplot as plt\n",
    "\n",
    "\n",
    "# Create matplotlib figure\n",
    "fig = plt.figure(figsize=(12, 8))\n",
    "# Create matplotlib axes\n",
    "ax = fig.add_subplot(111) \n",
    "# Create second x axes on same fig.\n",
    "ax2 = ax.twinx() \n",
    "# Set Width of bars\n",
    "width = 0.2\n",
    "\n",
    "north_plt.plot(kind='bar', color='blue', ax=ax, width=width, position=1)\n",
    "service_level[\"Service Level %\"].plot(kind='bar', color='orange', ax=ax2, width=width, position=0)\n",
    "\n",
    "ax.set_ylabel('Incoming Wait Time',color = 'black', fontsize = 16, fontweight = 'bold')\n",
    "ax2.set_ylabel('Service Level %',color = 'black', fontsize = 16, fontweight = 'bold')\n",
    "plt.title('Incoming Wait Times and Service Level %', color = 'black', fontsize = 20, fontweight = 'bold')\n",
    "\n",
    "plt.show()\n"
   ]
  },
  {
   "cell_type": "markdown",
   "id": "f965e41a",
   "metadata": {},
   "source": [
    "#### Visualization 3: For each type of call purpose, how many calls are outgoing vs. incoming?\n",
    "##### Record your answer by double clicking here:\n",
    "\n",
    "> Chart style you chose and why: The stacked bar chart is a useful way to visualize the composition of a total number, as it allows you to see how the different parts contribute to the whole."
   ]
  },
  {
   "cell_type": "code",
   "execution_count": null,
   "id": "3bc59525",
   "metadata": {},
   "outputs": [],
   "source": [
    "#Create visualization 3 here:\n",
    "# The three dictionaries, complaints, sales_support, and product_support, have the information you need\n",
    "\n",
    "import matplotlib.pyplot as plt\n",
    "\n",
    "# Group the calls by purpose and type (incoming or outgoing)\n",
    "call_purpose = [\"Complaint\", \"Product Support\", \"Sales Support\"]\n",
    "purpose_group = df.groupby(\"Call Purpose\")[\"Incoming or Outgoing\"].value_counts()\n",
    "\n",
    "# Create dictionaries for the counts of each type of call for each purpose\n",
    "complaints = {k:v for (k,v) in purpose_group[\"Complaint\"].items()}\n",
    "sales_support = {k:v for (k,v) in purpose_group[\"Sales Support\"].items()}\n",
    "product_support = {k:v for (k,v) in purpose_group[\"Product Support\"].items()}\n",
    "\n",
    "# Create a bar chart to visualize the counts of each type of call for each purpose\n",
    "fig, ax = plt.subplots(figsize=(8,6))\n",
    "bar_width = 0.25\n",
    "\n",
    "incoming_vals = [complaints.get((\"Incoming\"), 0), \n",
    "                 product_support.get((\"Incoming\"), 0), \n",
    "                 sales_support.get((\"Incoming\"), 0)]\n",
    "outgoing_vals = [complaints.get((\"Outgoing\"), 0), \n",
    "                 product_support.get((\"Outgoing\"), 0), \n",
    "                 sales_support.get((\"Outgoing\"), 0)]\n",
    "\n",
    "x_pos = [i for i in range(len(call_purpose))]\n",
    "ax.bar(x_pos, incoming_vals, width=bar_width, color='b', align='center', label='Incoming')\n",
    "ax.bar([i + bar_width for i in x_pos], outgoing_vals, width=bar_width, color='g', align='center', label='Outgoing')\n",
    "plt.xticks([i + bar_width/2 for i in x_pos], call_purpose)\n",
    "plt.ylabel('Count')\n",
    "plt.title('Call Types by Purpose')\n",
    "plt.legend()\n",
    "plt.show()"
   ]
  },
  {
   "cell_type": "code",
   "execution_count": null,
   "id": "3a6578e6",
   "metadata": {},
   "outputs": [],
   "source": [
    "df_incoming = df[df[\"Incoming or Outgoing\"] == \"Incoming\"]\n",
    "branch_service = df_incoming[df_incoming[\"During Call Wait Time\"] <= 2].groupby(\"Branch\")[\"Calls\"].sum() / df_incoming.groupby(\"Branch\")[\"Calls\"].sum() * 100\n",
    "\n",
    "# plot the bar chart\n",
    "branch_service.plot(kind=\"bar\")\n",
    "\n",
    "# set the chart title and labels for x-axis and y-axis\n",
    "plt.title(\"Service Level Percentage by Branch\")\n",
    "plt.xlabel(\"Branch\")\n",
    "plt.ylabel(\"Service Level %\")\n",
    "\n",
    "# show the chart\n",
    "plt.show()"
   ]
  },
  {
   "cell_type": "markdown",
   "id": "1c846ee2",
   "metadata": {},
   "source": [
    "<span style=\"background-color:orangered; color:orangered;\">- - - - - - - - - - - - - - - - - - - - - - - - - - - - - - - - - - - - - - - - - - - - - - - - - - - - - - - - - - - - - - - - - - - - - - - - - - - - - - - - - - - - - - - - -</span>"
   ]
  },
  {
   "cell_type": "markdown",
   "id": "ea7ed568",
   "metadata": {},
   "source": [
    "## Summarize Your Work\n",
    "\n",
    "With what you know now about the two call centers and the entire company, answer the following questions. Note that while this is subjective, you should include relevant data to back up your opinion.\n"
   ]
  },
  {
   "cell_type": "markdown",
   "id": "d2fc3d13",
   "metadata": {},
   "source": [
    "#### Summary Question 1:  Using KPIs such as average abandonment rate, service level and average speed of answer, in your opinion, which one of the two branches is operating more efficiently? Why?\n",
    "\n",
    "##### Record your answer by double clicking here:\n",
    "> Your Answer: \n",
    "North Branch operating more efficiently, higher service level percentage of the North Branch suggests that they are doing a better job at meeting their customers' needs and expectations.\n"
   ]
  },
  {
   "cell_type": "markdown",
   "id": "489f28d6",
   "metadata": {},
   "source": [
    "#### Summary Question 2: Based on the number of reps in each branch and how quickly the reps are working, in your opinion, which branch would benefit from the extra help?\n",
    "\n",
    "##### Record your answer by double clicking here:\n",
    "> Your Answer: North Branch\n"
   ]
  },
  {
   "cell_type": "markdown",
   "id": "0b10a8c3",
   "metadata": {},
   "source": [
    "#### Summary Question 3: Now that you have explored the datasets, is there any data or information that you wish you had in this analysis?\n",
    "\n",
    "##### Record your answer by double clicking here:\n",
    "> Your Answer: in my opinion data has needed columns.\n"
   ]
  },
  {
   "cell_type": "markdown",
   "id": "3bc26252",
   "metadata": {},
   "source": [
    "<span style=\"background-color:orangered; color:orangered;\">- - - - - - - - - - - - - - - - - - - - - - - - - - - - - - - - - - - - - - - - - - - - - - - - - - - - - - - - - - - - - - - - - - - - - - - - - - - - - - - - - - - - - - - - -</span>"
   ]
  },
  {
   "cell_type": "markdown",
   "id": "ce16f43d",
   "metadata": {},
   "source": [
    "## Bonus Mission\n",
    "Create a visualization that answers this question: For each call purpose, how many calls (incoming and outgoing) take place in each time block?\n",
    "##### Record your answer by double clicking here:\n",
    "\n",
    "> Chart style you chose and why: "
   ]
  },
  {
   "cell_type": "code",
   "execution_count": null,
   "id": "cfb1684d",
   "metadata": {},
   "outputs": [],
   "source": [
    "# Create your Bonus Mission visualization here!\n",
    "call_times = df[[\"Time Block\", \"Call Purpose\", \"Incoming or Outgoing\", \"Calls\"]]\n",
    "\n",
    "# Use groupby to plot based on time blocks:\n",
    "call_times_grouped = call_times.groupby([\"Time Block\", \"Call Purpose\", \"Incoming or Outgoing\"]).sum()\n",
    "grouped_calls = call_times.groupby([\"Time Block\", \"Call Purpose\", \"Incoming or Outgoing\"]).sum().reset_index()\n",
    "\n",
    "# Use groupby and get_group to select which call purpose to plot:\n",
    "for call_purpose in grouped_calls[\"Call Purpose\"].unique():\n",
    "    # create a new dataframe with only the current call purpose\n",
    "    purpose_data = grouped_calls[grouped_calls[\"Call Purpose\"] == call_purpose]\n",
    "    \n",
    "    # create a bar chart for incoming calls\n",
    "    incoming_data = purpose_data[purpose_data[\"Incoming or Outgoing\"] == \"Incoming\"]\n",
    "    outgoing_data = purpose_data[purpose_data[\"Incoming or Outgoing\"] == \"Outgoing\"]\n",
    "    outgoing_data = outgoing_data.reindex(index=incoming_data.index, fill_value=0)\n",
    "    plt.bar(incoming_data[\"Time Block\"], incoming_data[\"Calls\"], label=f\"{call_purpose} - Incoming\")\n",
    "    \n",
    "    # create a bar chart for outgoing calls\n",
    "    plt.bar(outgoing_data[\"Time Block\"], outgoing_data[\"Calls\"], label=f\"{call_purpose} - Outgoing\", bottom=incoming_data[\"Calls\"])\n",
    "    \n",
    "# set the chart title and labels for x-axis and y-axis\n",
    "plt.title(\"Number of Calls by Time Block and Call Purpose\")\n",
    "plt.xlabel(\"Time Block\")\n",
    "plt.ylabel(\"Number of Calls\")\n",
    "\n",
    "# rotate the x-axis labels for better visibility\n",
    "plt.xticks(rotation=45)\n",
    "\n",
    "# add a legend to the chart\n",
    "plt.legend()\n",
    "\n",
    "# show the chart\n",
    "plt.show()"
   ]
  },
  {
   "cell_type": "code",
   "execution_count": null,
   "id": "fb5f9135",
   "metadata": {},
   "outputs": [],
   "source": []
  }
 ],
 "metadata": {
  "kernelspec": {
   "display_name": "Python 3 (ipykernel)",
   "language": "python",
   "name": "python3"
  },
  "language_info": {
   "codemirror_mode": {
    "name": "ipython",
    "version": 3
   },
   "file_extension": ".py",
   "mimetype": "text/x-python",
   "name": "python",
   "nbconvert_exporter": "python",
   "pygments_lexer": "ipython3",
   "version": "3.9.13"
  }
 },
 "nbformat": 4,
 "nbformat_minor": 5
}
